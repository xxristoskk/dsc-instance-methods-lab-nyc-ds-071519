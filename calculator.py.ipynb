{
 "cells": [
  {
   "cell_type": "code",
   "execution_count": 57,
   "metadata": {},
   "outputs": [],
   "source": [
    "import numpy as np\n",
    "\n",
    "class Calculator:\n",
    "    def __init__(self, data):\n",
    "        self.data = data\n",
    "        self.length = len(data)\n",
    "        self.mean = self.calc_mean() \n",
    "        self.median = self.calc_median()\n",
    "        self.variance = self.variance()\n",
    "        self.standev = self.standard_dev()\n",
    "\n",
    "\n",
    "    def calc_mean(self):\n",
    "        return sum(self.data)/self.length\n",
    "        \n",
    "    def calc_median(self):\n",
    "        if self.length == 0:\n",
    "            return None\n",
    "        elif self.length % 2 == 1:\n",
    "            return self[self.length//2]\n",
    "        else:\n",
    "            i = self.length // 2\n",
    "            return (self.data[i-1] + self.data[i]) / 2\n",
    "            \n",
    "    def variance(self):\n",
    "        return sum(list(map(lambda x: (x - self.mean)**2, self.data)))/(self.length-1)\n",
    "        \n",
    "    def standard_dev(self):\n",
    "        return np.sqrt(self.variance)\n",
    "    pass    \n"
   ]
  },
  {
   "cell_type": "code",
   "execution_count": 58,
   "metadata": {},
   "outputs": [],
   "source": [
    "numbers = [22, 4, 32, 77, 45, 1]\n",
    "\n",
    "clac = Calculator(numbers)"
   ]
  },
  {
   "cell_type": "code",
   "execution_count": 60,
   "metadata": {},
   "outputs": [
    {
     "data": {
      "text/plain": [
       "28.350778942855637"
      ]
     },
     "execution_count": 60,
     "metadata": {},
     "output_type": "execute_result"
    }
   ],
   "source": [
    "clac.standev\n"
   ]
  },
  {
   "cell_type": "code",
   "execution_count": null,
   "metadata": {},
   "outputs": [],
   "source": []
  }
 ],
 "metadata": {
  "kernelspec": {
   "display_name": "learn-env",
   "language": "python",
   "name": "learn-env"
  },
  "language_info": {
   "codemirror_mode": {
    "name": "ipython",
    "version": 3
   },
   "file_extension": ".py",
   "mimetype": "text/x-python",
   "name": "python",
   "nbconvert_exporter": "python",
   "pygments_lexer": "ipython3",
   "version": "3.7.3"
  }
 },
 "nbformat": 4,
 "nbformat_minor": 2
}
